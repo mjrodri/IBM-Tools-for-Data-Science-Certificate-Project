{
 "cells": [
  {
   "cell_type": "markdown",
   "metadata": {},
   "source": [
    "<center>\n",
    "    <img src=\"https://cf-courses-data.s3.us.cloud-object-storage.appdomain.cloud/IBMDeveloperSkillsNetwork-DS0105EN-SkillsNetwork/labs/Module2/images/SN_web_lightmode.png\" width=\"300\" alt=\"cognitiveclass.ai logo\"  />\n",
    "</center>\n"
   ]
  },
  {
   "cell_type": "markdown",
   "metadata": {},
   "source": [
    "#### Add your code below following the instructions given in the course\n"
   ]
  },
  {
   "cell_type": "code",
   "execution_count": 1,
   "metadata": {},
   "outputs": [],
   "source": [
    "# My Jupyter Notebook Project on Data Science"
   ]
  },
  {
   "cell_type": "code",
   "execution_count": 28,
   "metadata": {},
   "outputs": [],
   "source": [
    "# Introduction\n",
    "# Welcome to my Data Science Project. In this project I will list data sceince languages and libraries, show some arithmetic expressions and conversions as well as list objectives."
   ]
  },
  {
   "cell_type": "code",
   "execution_count": 3,
   "metadata": {},
   "outputs": [],
   "source": [
    "# Data Science Languages\n",
    "- Python\n",
    "- R\n",
    "- SQL\n",
    "- SAS\n",
    "- MATLAB\n",
    "- Julia\n",
    "- Scala\n",
    "- Java\n",
    "- Perl\n",
    "- JavaScript\n"
   ]
  },
  {
   "cell_type": "code",
   "execution_count": 4,
   "metadata": {},
   "outputs": [],
   "source": [
    "# List of Data Science Libraries\n",
    "- NumPy\n",
    "- Pandas\n",
    "- Matplotlib\n",
    "- Seaborn\n",
    "- Scikit-learn\n",
    "- TensorFLow\n",
    "- Keras\n",
    "- Pytorch\n",
    "- NLTK\n",
    "- Statsmodels"
   ]
  },
  {
   "cell_type": "code",
   "execution_count": 34,
   "metadata": {},
   "outputs": [],
   "source": [
    "# List of Data Science Tools\n",
    "\n",
    "# JupyterNotebook\n",
    "# ApacheSpark\n",
    "# Tableau\n",
    "# PowerBI\n",
    "# IBMWatsonStudio"
   ]
  },
  {
   "cell_type": "code",
   "execution_count": 7,
   "metadata": {},
   "outputs": [
    {
     "name": "stdout",
     "output_type": "stream",
     "text": [
      "100\n"
     ]
    }
   ],
   "source": [
    "## Arithmetic Expression Examples\n",
    "\n",
    "x = 10\n",
    "y = 10\n",
    "z = x * y\n",
    "print(z)"
   ]
  },
  {
   "cell_type": "code",
   "execution_count": 11,
   "metadata": {},
   "outputs": [
    {
     "name": "stdout",
     "output_type": "stream",
     "text": [
      "52\n"
     ]
    }
   ],
   "source": [
    "# Multiply and add numbers\n",
    "x = 6\n",
    "y = 7\n",
    "z = 10\n",
    "a = x * y + z\n",
    "print(a)"
   ]
  },
  {
   "cell_type": "code",
   "execution_count": 21,
   "metadata": {},
   "outputs": [
    {
     "name": "stdout",
     "output_type": "stream",
     "text": [
      "3.0\n",
      "hours\n"
     ]
    }
   ],
   "source": [
    "# Code to Convert hours to minutes\n",
    "minutes = 180\n",
    "hours = minutes / 60\n",
    "print(hours)\n",
    "print('hours')"
   ]
  },
  {
   "cell_type": "code",
   "execution_count": 35,
   "metadata": {},
   "outputs": [],
   "source": [
    "# List of Objectives\n",
    "# Analyze a dataset to identify trends and patterns.\n",
    "# Develop a machine learning model to make predictions or classifications.\n",
    "# Visualize data using charts, graphs, and other visual aids.\n",
    "# Clean and preprocess data to prepare it for analysis or modeling.\n",
    "# Collaborate with other team members to develop and implement a data science solution.\n",
    "# Present findings and results to stakeholders or clients in a clear and concise manner.\n",
    "# Continuously improve the accuracy and effectiveness of data science models and methods.\n",
    "# Collaborate with other team members to develop and implement a data science solution.\n",
    "# Present findings and results to stakeholders or clients in a clear and concise manner.\n",
    "# Continuously improve the accuracy and effectiveness of data science models and methods."
   ]
  },
  {
   "cell_type": "code",
   "execution_count": 23,
   "metadata": {},
   "outputs": [],
   "source": [
    "# The Author is Michael R. "
   ]
  },
  {
   "cell_type": "code",
   "execution_count": null,
   "metadata": {},
   "outputs": [],
   "source": []
  }
 ],
 "metadata": {
  "kernelspec": {
   "display_name": "Python",
   "language": "python",
   "name": "conda-env-python-py"
  },
  "language_info": {
   "codemirror_mode": {
    "name": "ipython",
    "version": 3
   },
   "file_extension": ".py",
   "mimetype": "text/x-python",
   "name": "python",
   "nbconvert_exporter": "python",
   "pygments_lexer": "ipython3",
   "version": "3.7.12"
  }
 },
 "nbformat": 4,
 "nbformat_minor": 4
}
